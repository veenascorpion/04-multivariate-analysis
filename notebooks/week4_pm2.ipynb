{
 "cells": [
  {
   "cell_type": "markdown",
   "metadata": {},
   "source": [
    "### Creating PLS models\n",
    "\n",
    "Note: This exercise will be updated again between week 5 and week 6.  Hold off on trying this exercise as it is now as it may be more challenging than other exercises and it will be updated with additional information soon.\n",
    "\n",
    "In this session we'll try to make a PLS model.  The principles are the same as what we've done throughout today.\n",
    "\n",
    "Take it in small steps.  Initially don't worry about cross-validation and just try to get some code working with a fixed number of components.  Look at how the model changes as you change the number of components.\n",
    "\n",
    "Find out how to look at the \"components\", called \"loading vectors\" in PLS jargon.  \n",
    "\n",
    "Create score plots, like you did with PCA.\n",
    "\n",
    "Then try using a cross validation tool to try and make a cross-validated model to choose an appropriate number of components to use in the predictive model.\n",
    "\n",
    "PLSRegression is used like the other supervised learning models and is found in:\n",
    "\n",
    "```\n",
    "from sklearn.cross_decomposition import PLSRegression\n",
    "from sklearn import model_selection\n",
    "from sklearn.metrics import mean_squared_error\n",
    "\n",
    "# and don't forget numpy, pandas and matplotlib\n",
    "```\n",
    "\n",
    "Use it like this for a given number of components:\n",
    "\n",
    "```\n",
    "model = PLSRegression(number_of_components)\n",
    "model.fit(X_training_data, y_training_data)\n",
    "```\n",
    "\n",
    "You can cross validate in multiple ways.  This may be the simplest:\n",
    "\n",
    "```\n",
    "kf_10 = model_selection.KFold(n_splits=10, shuffle=True, random_state=1)\n",
    "mse = []\n",
    "\n",
    "for idx in np.arange(1, 20):\n",
    "    model = PLSRegression(n_components= idx)\n",
    "    error_score = model_selection.cross_val_score(model, X_training_data,\n",
    "        y_training_data, cv=kf_10, scoring='neg_mean_squared_error').mean()\n",
    "    mse.append(error_score)\n",
    "    \n",
    "#plot the validation curve\n",
    "plt.plot(np.arange(1, 20), np.array(mse), '-v')\n",
    "plt.xlabel('Number of components for 10-fold CV')\n",
    "plt.ylabel('MSE')\n",
    "plt.title ('PLS Cross-validation')\n",
    "```\n",
    "\n"
   ]
  },
  {
   "cell_type": "code",
   "execution_count": null,
   "metadata": {},
   "outputs": [],
   "source": []
  }
 ],
 "metadata": {
  "kernelspec": {
   "display_name": "Python 3",
   "language": "python",
   "name": "python3"
  },
  "language_info": {
   "codemirror_mode": {
    "name": "ipython",
    "version": 3
   },
   "file_extension": ".py",
   "mimetype": "text/x-python",
   "name": "python",
   "nbconvert_exporter": "python",
   "pygments_lexer": "ipython3",
   "version": "3.6.6"
  }
 },
 "nbformat": 4,
 "nbformat_minor": 2
}
